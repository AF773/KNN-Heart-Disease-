{
  "nbformat": 4,
  "nbformat_minor": 0,
  "metadata": {
    "colab": {
      "name": "Knn(ML-HEART DISEASE) .ipynb",
      "provenance": []
    },
    "kernelspec": {
      "display_name": "Python 3",
      "name": "python3"
    },
    "language_info": {
      "name": "python"
    }
  },
  "cells": [
    {
      "cell_type": "code",
      "metadata": {
        "id": "g-pZqlJo-Fnc"
      },
      "source": [
        "import pandas as pd\n",
        "import numpy as np\n",
        "import matplotlib.pyplot as plt\n",
        "from sklearn import preprocessing\n",
        "from sklearn.model_selection import train_test_split\n",
        "from sklearn.neighbors import KNeighborsClassifier\n",
        "from sklearn import metrics"
      ],
      "execution_count": null,
      "outputs": []
    },
    {
      "cell_type": "code",
      "metadata": {
        "colab": {
          "base_uri": "https://localhost:8080/"
        },
        "id": "25_tKIwP-MVx",
        "outputId": "ed97acac-b728-4ea2-ce08-d040a108f652"
      },
      "source": [
        " from google.colab import drive\n",
        "drive.mount('/content/drive/')"
      ],
      "execution_count": null,
      "outputs": [
        {
          "output_type": "stream",
          "text": [
            "Drive already mounted at /content/drive/; to attempt to forcibly remount, call drive.mount(\"/content/drive/\", force_remount=True).\n"
          ],
          "name": "stdout"
        }
      ]
    },
    {
      "cell_type": "code",
      "metadata": {
        "id": "8VHc9a80AWC1",
        "colab": {
          "base_uri": "https://localhost:8080/"
        },
        "outputId": "baaf58d0-7e17-44ee-cbae-05f21f35fa2a"
      },
      "source": [
        "from pandas import read_csv\n",
        "data = read_csv(\"/content/drive/My Drive/Colab Notebooks/ML/Jantung.csv\")\n",
        "print(data.head())"
      ],
      "execution_count": null,
      "outputs": [
        {
          "output_type": "stream",
          "text": [
            "   age  sex  cp  trtbps  chol  fbs  ...  exng  oldpeak  slp  caa  thall  Target\n",
            "0   63    1   3     145   233    1  ...     0       23    0    0      1       1\n",
            "1   37    1   2     130   250    0  ...     0       35    0    0      2       1\n",
            "2   41    0   1     130   204    0  ...     0       14    2    0      2       1\n",
            "3   56    1   1     120   236    0  ...     0        8    2    0      2       1\n",
            "4   57    0   0     120   354    0  ...     1        6    2    0      2       1\n",
            "\n",
            "[5 rows x 14 columns]\n"
          ],
          "name": "stdout"
        }
      ]
    },
    {
      "cell_type": "code",
      "metadata": {
        "colab": {
          "base_uri": "https://localhost:8080/"
        },
        "id": "zJqlh8tEKj0B",
        "outputId": "13d83793-a88b-4caf-c3a1-e2baaf1dcbd2"
      },
      "source": [
        " print(data['Target'].value_counts())"
      ],
      "execution_count": null,
      "outputs": [
        {
          "output_type": "stream",
          "text": [
            "1    165\n",
            "0    138\n",
            "Name: Target, dtype: int64\n"
          ],
          "name": "stdout"
        }
      ]
    },
    {
      "cell_type": "code",
      "metadata": {
        "colab": {
          "base_uri": "https://localhost:8080/"
        },
        "id": "D0gisTY5LNN6",
        "outputId": "74304bd2-2fe4-4ebf-957d-369427f965fa"
      },
      "source": [
        " print(data.columns)"
      ],
      "execution_count": null,
      "outputs": [
        {
          "output_type": "stream",
          "text": [
            "Index(['age', 'sex', 'cp', 'trtbps', 'chol', 'fbs', 'restecg', 'thalachh',\n",
            "       'exng', 'oldpeak', 'slp', 'caa', 'thall', 'Target'],\n",
            "      dtype='object')\n"
          ],
          "name": "stdout"
        }
      ]
    },
    {
      "cell_type": "code",
      "metadata": {
        "id": "ntJ62fcYLbV9"
      },
      "source": [
        " \n",
        "#Converting dataframe to array so it can be used with sklearn\n",
        "X = data[['age', 'sex', 'cp', 'trtbps', 'chol', 'fbs', 'restecg', 'thalachh',\n",
        "       'exng', 'oldpeak', 'slp', 'caa', 'thall', 'Target']]"
      ],
      "execution_count": null,
      "outputs": []
    },
    {
      "cell_type": "code",
      "metadata": {
        "id": "HWF9kZN_OZ3e"
      },
      "source": [
        " \n",
        "##The variable that contains array of 'target' values\n",
        "Y= data['Target'].values"
      ],
      "execution_count": null,
      "outputs": []
    },
    {
      "cell_type": "code",
      "metadata": {
        "id": "Qx80IARDOnms"
      },
      "source": [
        " X = preprocessing.StandardScaler().fit(X).transform(X.astype(float))"
      ],
      "execution_count": null,
      "outputs": []
    },
    {
      "cell_type": "code",
      "metadata": {
        "id": "TQiR2B7wOukd"
      },
      "source": [
        "from sklearn.model_selection import train_test_split  \n",
        "X_train,X_test, Y_train, Y_test= train_test_split(X, Y, test_size= 0.6, random_state=0)"
      ],
      "execution_count": null,
      "outputs": []
    },
    {
      "cell_type": "code",
      "metadata": {
        "id": "-aWjXcQKk07l",
        "colab": {
          "base_uri": "https://localhost:8080/"
        },
        "outputId": "15747c9a-e9c0-45ef-8db7-3cfffcb29d24"
      },
      "source": [
        " \n",
        " \n",
        "# # Predicting the Test set results\n",
        "y_pred = knn.predict(X_test)\n",
        "y_pred"
      ],
      "execution_count": null,
      "outputs": [
        {
          "output_type": "execute_result",
          "data": {
            "text/plain": [
              "array([0, 1, 0, 0, 0, 0, 0, 0, 0, 0, 1, 1, 0, 1, 1, 1, 1, 1, 0, 1, 1, 0,\n",
              "       0, 0, 1, 0, 0, 0, 1, 1, 0, 0, 1, 1, 1, 0, 0, 1, 0, 0, 1, 1, 1, 0,\n",
              "       1, 1, 1, 0, 0, 1, 1, 0, 1, 1, 1, 0, 1, 1, 1, 1, 1, 1, 1, 1, 0, 1,\n",
              "       0, 0, 1, 1, 1, 1, 1, 0, 0, 1, 0, 0, 1, 1, 0, 0, 0, 1, 0, 1, 0, 0,\n",
              "       1, 0, 0, 1, 1, 0, 1, 0, 0, 0, 1, 0, 0, 1, 0, 1, 0, 0, 1, 1, 1, 1,\n",
              "       0, 0, 0, 0, 0, 0, 1, 1, 1, 0, 1, 0, 1, 0, 1, 1, 1, 1, 1, 1, 1, 0,\n",
              "       0, 1, 1, 0, 1, 1, 0, 0, 0, 0, 1, 1, 1, 1, 0, 1, 1, 1, 1, 1, 1, 0,\n",
              "       0, 1, 0, 0, 0, 1, 1, 1, 0, 1, 0, 1, 1, 0, 1, 1, 1, 1, 1, 0, 0, 1,\n",
              "       0, 1, 0, 1, 1, 0])"
            ]
          },
          "metadata": {
            "tags": []
          },
          "execution_count": 46
        }
      ]
    },
    {
      "cell_type": "code",
      "metadata": {
        "id": "_j5XJZGCTFVL",
        "colab": {
          "base_uri": "https://localhost:8080/"
        },
        "outputId": "fc04e3de-d2c1-4397-be4b-a72af96a286e"
      },
      "source": [
        "from sklearn.neighbors import KNeighborsClassifier  \n",
        "knn = KNeighborsClassifier(n_neighbors= 1,weights = 'distance' ,metric=\"euclidean\")\n",
        "knn.fit(X_train, Y_train)"
      ],
      "execution_count": null,
      "outputs": [
        {
          "output_type": "execute_result",
          "data": {
            "text/plain": [
              "KNeighborsClassifier(algorithm='auto', leaf_size=30, metric='euclidean',\n",
              "                     metric_params=None, n_jobs=None, n_neighbors=1, p=2,\n",
              "                     weights='distance')"
            ]
          },
          "metadata": {
            "tags": []
          },
          "execution_count": 47
        }
      ]
    },
    {
      "cell_type": "code",
      "metadata": {
        "colab": {
          "base_uri": "https://localhost:8080/"
        },
        "id": "I5crfbqxIkpw",
        "outputId": "7bece931-79ba-49d3-872a-5ff8c92f624b"
      },
      "source": [
        " \n",
        "from sklearn.metrics import accuracy_score\n",
        "print(\"Accuracy of test set=\",accuracy_score(Y_test, y_pred)*100)"
      ],
      "execution_count": null,
      "outputs": [
        {
          "output_type": "stream",
          "text": [
            "Accuracy of test set= 93.95604395604396\n"
          ],
          "name": "stdout"
        }
      ]
    },
    {
      "cell_type": "code",
      "metadata": {
        "colab": {
          "base_uri": "https://localhost:8080/"
        },
        "id": "PvgE9QFZbU4A",
        "outputId": "e5a7f229-2e99-4a81-be44-707419affdfa"
      },
      "source": [
        " from sklearn.metrics import classification_report,confusion_matrix\n",
        "predictions = knn.predict(X_test)\n",
        "print(classification_report(Y_test,predictions))"
      ],
      "execution_count": null,
      "outputs": [
        {
          "output_type": "stream",
          "text": [
            "              precision    recall  f1-score   support\n",
            "\n",
            "           0       0.96      0.86      0.90        83\n",
            "           1       0.89      0.97      0.93        99\n",
            "\n",
            "    accuracy                           0.92       182\n",
            "   macro avg       0.92      0.91      0.92       182\n",
            "weighted avg       0.92      0.92      0.92       182\n",
            "\n"
          ],
          "name": "stdout"
        }
      ]
    },
    {
      "cell_type": "code",
      "metadata": {
        "id": "t28rVIFiJSCl"
      },
      "source": [
        " possible_k=[1,3,5,7,9,11]"
      ],
      "execution_count": null,
      "outputs": []
    },
    {
      "cell_type": "code",
      "metadata": {
        "colab": {
          "base_uri": "https://localhost:8080/"
        },
        "id": "HNLZGxx4JCuT",
        "outputId": "c0eb034d-0dcf-4383-f9f8-9d499f5cff96"
      },
      "source": [
        " \n",
        "ac_scores=[]\n",
        "for k in possible_k:\n",
        "    knn=KNeighborsClassifier(n_neighbors= k,weights = 'distance',metric=\"euclidean\" )\n",
        "    knn.fit(X_train,Y_train)\n",
        "    y_pred=knn.predict(X_test)\n",
        "    scores=accuracy_score(Y_test,y_pred)\n",
        "    ac_scores.append(scores)\n",
        "print (\"Accuracy Scores :\",ac_scores)"
      ],
      "execution_count": null,
      "outputs": [
        {
          "output_type": "stream",
          "text": [
            "Accuracy Scores : [0.9395604395604396, 0.9285714285714286, 0.9340659340659341, 0.9285714285714286, 0.9340659340659341, 0.9175824175824175]\n"
          ],
          "name": "stdout"
        }
      ]
    }
  ]
}